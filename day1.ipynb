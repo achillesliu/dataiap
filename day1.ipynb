{
 "metadata": {
  "name": "",
  "signature": "sha256:0bd7da1f754f9a0dbae5b7b4cd36dd8f3d8e22ab059325a84863bbe78c7623d3"
 },
 "nbformat": 3,
 "nbformat_minor": 0,
 "worksheets": [
  {
   "cells": [
    {
     "cell_type": "code",
     "collapsed": false,
     "input": [
      "import pandas as pd\n",
      "import collections as col\n",
      "import datetime\n",
      "%matplotlib inline\n",
      "import matplotlib.pyplot as plt\n",
      "import numpy as np"
     ],
     "language": "python",
     "metadata": {},
     "outputs": [],
     "prompt_number": 1
    },
    {
     "cell_type": "markdown",
     "metadata": {},
     "source": [
      "### Read the data"
     ]
    },
    {
     "cell_type": "code",
     "collapsed": false,
     "input": [
      "df = pd.read_csv('donations_sample.csv', index_col=False)"
     ],
     "language": "python",
     "metadata": {},
     "outputs": [],
     "prompt_number": 7
    },
    {
     "cell_type": "markdown",
     "metadata": {},
     "source": [
      "### Organize data for plotting"
     ]
    },
    {
     "cell_type": "code",
     "collapsed": true,
     "input": [
      "obadonations = col.defaultdict(lambda: 0)\n",
      "macdonations = col.defaultdict(lambda: 0)\n",
      "for i in range(len(df)):\n",
      "    \n",
      "    if \"Obama\" in df.ix[i, 'cand_nm']:\n",
      "        datestr = df.ix[i, 'contb_receipt_dt']\n",
      "        date = datetime.datetime.strptime(datestr, '%d-%b-%y')\n",
      "        \n",
      "        money = float(df.ix[i, 'contb_receipt_amt'])\n",
      "        obadonations[date] += float(df.ix[i, 'contb_receipt_amt'])\n",
      "        \n",
      "    if \"McCain\" in df.ix[i, 'cand_nm']:\n",
      "        datestr = df.ix[i, 'contb_receipt_dt']\n",
      "        date = datetime.datetime.strptime(datestr, '%d-%b-%y')\n",
      "        money = float(df.ix[i, 'contb_receipt_amt'])\n",
      "        macdonations[date] += float(df.ix[i, 'contb_receipt_amt'])"
     ],
     "language": "python",
     "metadata": {},
     "outputs": [],
     "prompt_number": 53
    },
    {
     "cell_type": "markdown",
     "metadata": {},
     "source": [
      "### Make into two lists"
     ]
    },
    {
     "cell_type": "code",
     "collapsed": false,
     "input": [
      "sorted_by_date =  sorted(obadonations.items(), key=lambda (k,v): k)\n",
      "xdate, amt = zip(* sorted_by_date)\n",
      "\n",
      "asorted_by_date =  sorted(macdonations.items(), key=lambda (k,v): k)\n",
      "adate, aamt = zip(* asorted_by_date)"
     ],
     "language": "python",
     "metadata": {},
     "outputs": [],
     "prompt_number": 67
    },
    {
     "cell_type": "markdown",
     "metadata": {},
     "source": [
      "### Plot"
     ]
    },
    {
     "cell_type": "code",
     "collapsed": true,
     "input": [
      "plt.figure(figsize=(12,5))\n",
      "plt.plot(xdate, np.cumsum(amt).tolist())\n",
      "plt.plot(adate, np.cumsum(aamt).tolist())\n",
      "plt.legend(['Obama', 'McCain'], loc='upper center')"
     ],
     "language": "python",
     "metadata": {},
     "outputs": [
      {
       "metadata": {},
       "output_type": "pyout",
       "prompt_number": 69,
       "text": [
        "<matplotlib.legend.Legend at 0x10cf8d3d0>"
       ]
      },
      {
       "metadata": {},
       "output_type": "display_data",
       "png": "[encoded data removed]",
       "text": [
        "<matplotlib.figure.Figure at 0x10cfc9550>"
       ]
      }
     ],
     "prompt_number": 69
    },
    {
     "cell_type": "code",
     "collapsed": false,
     "input": [],
     "language": "python",
     "metadata": {},
     "outputs": []
    }
   ],
   "metadata": {}
  }
 ]
}