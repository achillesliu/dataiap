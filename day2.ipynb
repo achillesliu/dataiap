{
 "metadata": {
  "name": "",
  "signature": "sha256:a6a6146944aaa12a72c81300730a6509c1ffd33352ef13362820836b8252327c"
 },
 "nbformat": 3,
 "nbformat_minor": 0,
 "worksheets": [
  {
   "cells": [
    {
     "cell_type": "code",
     "collapsed": false,
     "input": [
      "import pandas as pd\n",
      "import random\n",
      "%matplotlib inline\n",
      "import matplotlib.pyplot as plt"
     ],
     "language": "python",
     "metadata": {},
     "outputs": [],
     "prompt_number": 1
    },
    {
     "cell_type": "code",
     "collapsed": false,
     "input": [
      "import numpy as np"
     ],
     "language": "python",
     "metadata": {},
     "outputs": [],
     "prompt_number": 14
    },
    {
     "cell_type": "markdown",
     "metadata": {},
     "source": [
      "## Sampling the data"
     ]
    },
    {
     "cell_type": "code",
     "collapsed": false,
     "input": [
      "df = pd.read_csv('donations.csv', index_col=False)\n",
      "rows = random.sample(df.index, int(len(df)/100))\n",
      "newdf = df.ix[rows]"
     ],
     "language": "python",
     "metadata": {},
     "outputs": [
      {
       "output_type": "stream",
       "stream": "stderr",
       "text": [
        "/opt/local/Library/Frameworks/Python.framework/Versions/2.7/lib/python2.7/site-packages/pandas/io/parsers.py:1159: DtypeWarning: Columns (6,12) have mixed types. Specify dtype option on import or set low_memory=False.\n",
        "  data = self._reader.read(nrows)\n"
       ]
      }
     ],
     "prompt_number": 2
    },
    {
     "cell_type": "markdown",
     "metadata": {},
     "source": [
      "## Plot"
     ]
    },
    {
     "cell_type": "markdown",
     "metadata": {},
     "source": [
      "### histogram of the contributions with increaments of $100: reading data"
     ]
    },
    {
     "cell_type": "code",
     "collapsed": false,
     "input": [
      "oba = newdf[newdf['cand_nm'] == 'Obama, Barack']\n",
      "mac = newdf[newdf['cand_nm'] == 'McCain, John S']\n",
      "oba_amt = oba['contb_receipt_amt'].values\n",
      "mac_amt = mac['contb_receipt_amt'].values"
     ],
     "language": "python",
     "metadata": {},
     "outputs": [],
     "prompt_number": 4
    },
    {
     "cell_type": "markdown",
     "metadata": {},
     "source": [
      "### histogram of the contributions with increaments of $100: plot"
     ]
    },
    {
     "cell_type": "code",
     "collapsed": false,
     "input": [
      "fig = plt.figure(figsize=([30, 10]))\n",
      "\n",
      "subplot1 = fig.add_subplot(231)\n",
      "bins = np.linspace(-4000, 6000, num=100)\n",
      "subplot1.hist([oba_amt, mac_amt], bins=bins, color=['r', 'g'], rwidth=[0.5, 0.5])\n",
      "subplot1.legend(['obama', 'macain'])"
     ],
     "language": "python",
     "metadata": {},
     "outputs": [
      {
       "metadata": {},
       "output_type": "pyout",
       "prompt_number": 20,
       "text": [
        "<matplotlib.legend.Legend at 0x10db1b3d0>"
       ]
      },
      {
       "metadata": {},
       "output_type": "display_data",
       "png": "[encoded data removed]",
       "text": [
        "<matplotlib.figure.Figure at 0x10e342e50>"
       ]
      }
     ],
     "prompt_number": 20
    },
    {
     "cell_type": "code",
     "collapsed": false,
     "input": [],
     "language": "python",
     "metadata": {},
     "outputs": []
    }
   ],
   "metadata": {}
  }
 ]
}